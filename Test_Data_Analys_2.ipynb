{
  "nbformat": 4,
  "nbformat_minor": 0,
  "metadata": {
    "colab": {
      "name": "Test Data Analys 2.ipynb",
      "provenance": [],
      "collapsed_sections": [],
      "include_colab_link": true
    },
    "kernelspec": {
      "name": "python3",
      "display_name": "Python 3"
    },
    "accelerator": "GPU"
  },
  "cells": [
    {
      "cell_type": "markdown",
      "metadata": {
        "id": "view-in-github",
        "colab_type": "text"
      },
      "source": [
        "<a href=\"https://colab.research.google.com/github/dimasn130397/Data_Analyst/blob/master/Test_Data_Analys_2.ipynb\" target=\"_parent\"><img src=\"https://colab.research.google.com/assets/colab-badge.svg\" alt=\"Open In Colab\"/></a>"
      ]
    },
    {
      "cell_type": "markdown",
      "metadata": {
        "id": "hreE69E9CGOk",
        "colab_type": "text"
      },
      "source": [
        "Import Data"
      ]
    },
    {
      "cell_type": "code",
      "metadata": {
        "id": "1r-1Pfnt9-lU",
        "colab_type": "code",
        "colab": {}
      },
      "source": [
        "url = \"https://raw.githubusercontent.com/dimasn130397/Data_Analyst/master/mtcarsData.csv\""
      ],
      "execution_count": 0,
      "outputs": []
    },
    {
      "cell_type": "markdown",
      "metadata": {
        "id": "YDyr13chLx0H",
        "colab_type": "text"
      },
      "source": [
        "Import Library"
      ]
    },
    {
      "cell_type": "code",
      "metadata": {
        "id": "nsE3jPn6-fGM",
        "colab_type": "code",
        "colab": {}
      },
      "source": [
        "import pandas as pd\n",
        "import numpy as np"
      ],
      "execution_count": 0,
      "outputs": []
    },
    {
      "cell_type": "markdown",
      "metadata": {
        "id": "hEItl4ZsL1Yc",
        "colab_type": "text"
      },
      "source": [
        "Read Data"
      ]
    },
    {
      "cell_type": "code",
      "metadata": {
        "id": "xyKVAlOC-tuD",
        "colab_type": "code",
        "outputId": "3a5c8c9c-7a02-450c-b99b-f3776ebc46ba",
        "colab": {
          "base_uri": "https://localhost:8080/",
          "height": 195
        }
      },
      "source": [
        "my_data = pd.read_csv('https://raw.githubusercontent.com/dimasn130397/Data_Analyst/master/mtcarsData.csv')\n",
        "my_data.head()"
      ],
      "execution_count": 4,
      "outputs": [
        {
          "output_type": "execute_result",
          "data": {
            "text/html": [
              "<div>\n",
              "<style scoped>\n",
              "    .dataframe tbody tr th:only-of-type {\n",
              "        vertical-align: middle;\n",
              "    }\n",
              "\n",
              "    .dataframe tbody tr th {\n",
              "        vertical-align: top;\n",
              "    }\n",
              "\n",
              "    .dataframe thead th {\n",
              "        text-align: right;\n",
              "    }\n",
              "</style>\n",
              "<table border=\"1\" class=\"dataframe\">\n",
              "  <thead>\n",
              "    <tr style=\"text-align: right;\">\n",
              "      <th></th>\n",
              "      <th>Cars</th>\n",
              "      <th>mpg</th>\n",
              "      <th>cyl</th>\n",
              "      <th>disp</th>\n",
              "      <th>hp</th>\n",
              "      <th>drat</th>\n",
              "      <th>wt</th>\n",
              "      <th>qsec</th>\n",
              "      <th>vs</th>\n",
              "      <th>am</th>\n",
              "      <th>gear</th>\n",
              "      <th>carb</th>\n",
              "    </tr>\n",
              "  </thead>\n",
              "  <tbody>\n",
              "    <tr>\n",
              "      <th>0</th>\n",
              "      <td>Mazda RX4</td>\n",
              "      <td>21.0</td>\n",
              "      <td>6</td>\n",
              "      <td>160.0</td>\n",
              "      <td>110</td>\n",
              "      <td>3.90</td>\n",
              "      <td>2.620</td>\n",
              "      <td>16.46</td>\n",
              "      <td>0</td>\n",
              "      <td>1</td>\n",
              "      <td>4</td>\n",
              "      <td>4</td>\n",
              "    </tr>\n",
              "    <tr>\n",
              "      <th>1</th>\n",
              "      <td>Mazda RX4 Wag</td>\n",
              "      <td>21.0</td>\n",
              "      <td>6</td>\n",
              "      <td>160.0</td>\n",
              "      <td>110</td>\n",
              "      <td>3.90</td>\n",
              "      <td>2.875</td>\n",
              "      <td>17.02</td>\n",
              "      <td>0</td>\n",
              "      <td>1</td>\n",
              "      <td>4</td>\n",
              "      <td>4</td>\n",
              "    </tr>\n",
              "    <tr>\n",
              "      <th>2</th>\n",
              "      <td>Datsun 710</td>\n",
              "      <td>22.8</td>\n",
              "      <td>4</td>\n",
              "      <td>108.0</td>\n",
              "      <td>93</td>\n",
              "      <td>3.85</td>\n",
              "      <td>2.320</td>\n",
              "      <td>18.61</td>\n",
              "      <td>1</td>\n",
              "      <td>1</td>\n",
              "      <td>4</td>\n",
              "      <td>1</td>\n",
              "    </tr>\n",
              "    <tr>\n",
              "      <th>3</th>\n",
              "      <td>Hornet 4 Drive</td>\n",
              "      <td>21.4</td>\n",
              "      <td>6</td>\n",
              "      <td>258.0</td>\n",
              "      <td>110</td>\n",
              "      <td>3.08</td>\n",
              "      <td>3.215</td>\n",
              "      <td>19.44</td>\n",
              "      <td>1</td>\n",
              "      <td>0</td>\n",
              "      <td>3</td>\n",
              "      <td>1</td>\n",
              "    </tr>\n",
              "    <tr>\n",
              "      <th>4</th>\n",
              "      <td>Hornet Sportabout</td>\n",
              "      <td>18.7</td>\n",
              "      <td>8</td>\n",
              "      <td>360.0</td>\n",
              "      <td>175</td>\n",
              "      <td>3.15</td>\n",
              "      <td>3.440</td>\n",
              "      <td>17.02</td>\n",
              "      <td>0</td>\n",
              "      <td>0</td>\n",
              "      <td>3</td>\n",
              "      <td>2</td>\n",
              "    </tr>\n",
              "  </tbody>\n",
              "</table>\n",
              "</div>"
            ],
            "text/plain": [
              "                Cars   mpg  cyl   disp   hp  ...   qsec  vs  am  gear  carb\n",
              "0          Mazda RX4  21.0    6  160.0  110  ...  16.46   0   1     4     4\n",
              "1      Mazda RX4 Wag  21.0    6  160.0  110  ...  17.02   0   1     4     4\n",
              "2         Datsun 710  22.8    4  108.0   93  ...  18.61   1   1     4     1\n",
              "3     Hornet 4 Drive  21.4    6  258.0  110  ...  19.44   1   0     3     1\n",
              "4  Hornet Sportabout  18.7    8  360.0  175  ...  17.02   0   0     3     2\n",
              "\n",
              "[5 rows x 12 columns]"
            ]
          },
          "metadata": {
            "tags": []
          },
          "execution_count": 4
        }
      ]
    },
    {
      "cell_type": "markdown",
      "metadata": {
        "id": "SJN-zEC5L4vU",
        "colab_type": "text"
      },
      "source": [
        "Kolom yang terdapat pada Data Frame"
      ]
    },
    {
      "cell_type": "code",
      "metadata": {
        "id": "QJJzCSI8Cmar",
        "colab_type": "code",
        "outputId": "534e6043-286f-4d68-93c1-b9ff53bac705",
        "colab": {
          "base_uri": "https://localhost:8080/",
          "height": 67
        }
      },
      "source": [
        "my_data.columns\n"
      ],
      "execution_count": 0,
      "outputs": [
        {
          "output_type": "execute_result",
          "data": {
            "text/plain": [
              "Index(['Cars', 'mpg', 'cyl', 'disp', 'hp', 'drat', 'wt', 'qsec', 'vs', 'am',\n",
              "       'gear', 'carb'],\n",
              "      dtype='object')"
            ]
          },
          "metadata": {
            "tags": []
          },
          "execution_count": 27
        }
      ]
    },
    {
      "cell_type": "markdown",
      "metadata": {
        "id": "9UiTBEjOObO-",
        "colab_type": "text"
      },
      "source": [
        "Type Data"
      ]
    },
    {
      "cell_type": "code",
      "metadata": {
        "id": "kGopRVuTCvGK",
        "colab_type": "code",
        "outputId": "c5b0d996-c621-4836-8573-5f5259cc9bb9",
        "colab": {
          "base_uri": "https://localhost:8080/",
          "height": 235
        }
      },
      "source": [
        "my_data.dtypes"
      ],
      "execution_count": 0,
      "outputs": [
        {
          "output_type": "execute_result",
          "data": {
            "text/plain": [
              "Cars     object\n",
              "mpg     float64\n",
              "cyl       int64\n",
              "disp    float64\n",
              "hp        int64\n",
              "drat    float64\n",
              "wt      float64\n",
              "qsec    float64\n",
              "vs        int64\n",
              "am        int64\n",
              "gear      int64\n",
              "carb      int64\n",
              "dtype: object"
            ]
          },
          "metadata": {
            "tags": []
          },
          "execution_count": 28
        }
      ]
    },
    {
      "cell_type": "markdown",
      "metadata": {
        "id": "mSFfLwTXMCde",
        "colab_type": "text"
      },
      "source": [
        "Menghapus beberapa data yang tidak diperlukan agar dapat mempermudah mengklasisfikasi data"
      ]
    },
    {
      "cell_type": "code",
      "metadata": {
        "id": "XLIgRh--GBkh",
        "colab_type": "code",
        "colab": {}
      },
      "source": [
        "my_data = my_data.drop(['cyl', 'disp', 'hp', 'drat', 'wt', 'qsec', 'vs', 'am',\n",
        "       'gear', 'carb'], axis=1)"
      ],
      "execution_count": 0,
      "outputs": []
    },
    {
      "cell_type": "markdown",
      "metadata": {
        "id": "uh5G2xUzMJjW",
        "colab_type": "text"
      },
      "source": [
        "Type data setelah dihapus"
      ]
    },
    {
      "cell_type": "code",
      "metadata": {
        "id": "VsdBy_RMGfBC",
        "colab_type": "code",
        "outputId": "3d8b7460-79a9-4b0b-8a1e-401c784399f4",
        "colab": {
          "base_uri": "https://localhost:8080/",
          "height": 67
        }
      },
      "source": [
        "my_data.dtypes"
      ],
      "execution_count": 0,
      "outputs": [
        {
          "output_type": "execute_result",
          "data": {
            "text/plain": [
              "Cars     object\n",
              "mpg     float64\n",
              "dtype: object"
            ]
          },
          "metadata": {
            "tags": []
          },
          "execution_count": 6
        }
      ]
    },
    {
      "cell_type": "markdown",
      "metadata": {
        "id": "dLO0iMDBMNMd",
        "colab_type": "text"
      },
      "source": [
        "Inisiasi var x untuk seleksi kolom serta baris dengan pandas"
      ]
    },
    {
      "cell_type": "code",
      "metadata": {
        "id": "YWuglXY0K8SV",
        "colab_type": "code",
        "colab": {}
      },
      "source": [
        "mpg_level = pd.Series([])"
      ],
      "execution_count": 0,
      "outputs": []
    },
    {
      "cell_type": "markdown",
      "metadata": {
        "id": "guvr6XVcMTKt",
        "colab_type": "text"
      },
      "source": [
        "# Preprocessing"
      ]
    },
    {
      "cell_type": "markdown",
      "metadata": {
        "id": "gZ4J9GAdMX6X",
        "colab_type": "text"
      },
      "source": [
        "Perulangan untuk mengklasifikasi data"
      ]
    },
    {
      "cell_type": "code",
      "metadata": {
        "id": "2WOyLIS8LSn6",
        "colab_type": "code",
        "colab": {}
      },
      "source": [
        "for i in range(len(my_data)):\n",
        "  if my_data[\"mpg\"][i] >= 30:\n",
        "    mpg_level[i]= \"high\"\n",
        "  elif my_data[\"mpg\"][i]>=20:\n",
        "    mpg_level[i]= \"medium\"\n",
        "  else:\n",
        "    mpg_level[i]= \"low\""
      ],
      "execution_count": 0,
      "outputs": []
    },
    {
      "cell_type": "markdown",
      "metadata": {
        "id": "X-DjdeMieszn",
        "colab_type": "text"
      },
      "source": [
        "Menambahkan kolom baru sebagai label untuk memisahkan class sesuai mpg yangt telah ditentukan."
      ]
    },
    {
      "cell_type": "code",
      "metadata": {
        "id": "JhBEt3n5Lv8a",
        "colab_type": "code",
        "colab": {}
      },
      "source": [
        "my_data.insert(2, \"mpg_level\", mpg_level)"
      ],
      "execution_count": 0,
      "outputs": []
    },
    {
      "cell_type": "code",
      "metadata": {
        "id": "JmF3T8YeMgvC",
        "colab_type": "code",
        "outputId": "5297a628-2bdd-4a2c-f867-1387edf5ad3f",
        "colab": {
          "base_uri": "https://localhost:8080/",
          "height": 994
        }
      },
      "source": [
        "my_data"
      ],
      "execution_count": 9,
      "outputs": [
        {
          "output_type": "execute_result",
          "data": {
            "text/html": [
              "<div>\n",
              "<style scoped>\n",
              "    .dataframe tbody tr th:only-of-type {\n",
              "        vertical-align: middle;\n",
              "    }\n",
              "\n",
              "    .dataframe tbody tr th {\n",
              "        vertical-align: top;\n",
              "    }\n",
              "\n",
              "    .dataframe thead th {\n",
              "        text-align: right;\n",
              "    }\n",
              "</style>\n",
              "<table border=\"1\" class=\"dataframe\">\n",
              "  <thead>\n",
              "    <tr style=\"text-align: right;\">\n",
              "      <th></th>\n",
              "      <th>Cars</th>\n",
              "      <th>mpg</th>\n",
              "      <th>mpg_level</th>\n",
              "    </tr>\n",
              "  </thead>\n",
              "  <tbody>\n",
              "    <tr>\n",
              "      <th>0</th>\n",
              "      <td>Mazda RX4</td>\n",
              "      <td>21.0</td>\n",
              "      <td>medium</td>\n",
              "    </tr>\n",
              "    <tr>\n",
              "      <th>1</th>\n",
              "      <td>Mazda RX4 Wag</td>\n",
              "      <td>21.0</td>\n",
              "      <td>medium</td>\n",
              "    </tr>\n",
              "    <tr>\n",
              "      <th>2</th>\n",
              "      <td>Datsun 710</td>\n",
              "      <td>22.8</td>\n",
              "      <td>medium</td>\n",
              "    </tr>\n",
              "    <tr>\n",
              "      <th>3</th>\n",
              "      <td>Hornet 4 Drive</td>\n",
              "      <td>21.4</td>\n",
              "      <td>medium</td>\n",
              "    </tr>\n",
              "    <tr>\n",
              "      <th>4</th>\n",
              "      <td>Hornet Sportabout</td>\n",
              "      <td>18.7</td>\n",
              "      <td>low</td>\n",
              "    </tr>\n",
              "    <tr>\n",
              "      <th>5</th>\n",
              "      <td>Valiant</td>\n",
              "      <td>18.1</td>\n",
              "      <td>low</td>\n",
              "    </tr>\n",
              "    <tr>\n",
              "      <th>6</th>\n",
              "      <td>Duster 360</td>\n",
              "      <td>14.3</td>\n",
              "      <td>low</td>\n",
              "    </tr>\n",
              "    <tr>\n",
              "      <th>7</th>\n",
              "      <td>Merc 240D</td>\n",
              "      <td>24.4</td>\n",
              "      <td>medium</td>\n",
              "    </tr>\n",
              "    <tr>\n",
              "      <th>8</th>\n",
              "      <td>Merc 230</td>\n",
              "      <td>22.8</td>\n",
              "      <td>medium</td>\n",
              "    </tr>\n",
              "    <tr>\n",
              "      <th>9</th>\n",
              "      <td>Merc 280</td>\n",
              "      <td>19.2</td>\n",
              "      <td>low</td>\n",
              "    </tr>\n",
              "    <tr>\n",
              "      <th>10</th>\n",
              "      <td>Merc 280C</td>\n",
              "      <td>17.8</td>\n",
              "      <td>low</td>\n",
              "    </tr>\n",
              "    <tr>\n",
              "      <th>11</th>\n",
              "      <td>Merc 450SE</td>\n",
              "      <td>16.4</td>\n",
              "      <td>low</td>\n",
              "    </tr>\n",
              "    <tr>\n",
              "      <th>12</th>\n",
              "      <td>Merc 450SL</td>\n",
              "      <td>17.3</td>\n",
              "      <td>low</td>\n",
              "    </tr>\n",
              "    <tr>\n",
              "      <th>13</th>\n",
              "      <td>Merc 450SLC</td>\n",
              "      <td>15.2</td>\n",
              "      <td>low</td>\n",
              "    </tr>\n",
              "    <tr>\n",
              "      <th>14</th>\n",
              "      <td>Cadillac Fleetwood</td>\n",
              "      <td>10.4</td>\n",
              "      <td>low</td>\n",
              "    </tr>\n",
              "    <tr>\n",
              "      <th>15</th>\n",
              "      <td>Lincoln Continental</td>\n",
              "      <td>10.4</td>\n",
              "      <td>low</td>\n",
              "    </tr>\n",
              "    <tr>\n",
              "      <th>16</th>\n",
              "      <td>Chrysler Imperial</td>\n",
              "      <td>14.7</td>\n",
              "      <td>low</td>\n",
              "    </tr>\n",
              "    <tr>\n",
              "      <th>17</th>\n",
              "      <td>Fiat 128</td>\n",
              "      <td>32.4</td>\n",
              "      <td>high</td>\n",
              "    </tr>\n",
              "    <tr>\n",
              "      <th>18</th>\n",
              "      <td>Honda Civic</td>\n",
              "      <td>30.4</td>\n",
              "      <td>high</td>\n",
              "    </tr>\n",
              "    <tr>\n",
              "      <th>19</th>\n",
              "      <td>Toyota Corolla</td>\n",
              "      <td>33.9</td>\n",
              "      <td>high</td>\n",
              "    </tr>\n",
              "    <tr>\n",
              "      <th>20</th>\n",
              "      <td>Toyota Corona</td>\n",
              "      <td>21.5</td>\n",
              "      <td>medium</td>\n",
              "    </tr>\n",
              "    <tr>\n",
              "      <th>21</th>\n",
              "      <td>Dodge Challenger</td>\n",
              "      <td>15.5</td>\n",
              "      <td>low</td>\n",
              "    </tr>\n",
              "    <tr>\n",
              "      <th>22</th>\n",
              "      <td>AMC Javelin</td>\n",
              "      <td>15.2</td>\n",
              "      <td>low</td>\n",
              "    </tr>\n",
              "    <tr>\n",
              "      <th>23</th>\n",
              "      <td>Camaro Z28</td>\n",
              "      <td>13.3</td>\n",
              "      <td>low</td>\n",
              "    </tr>\n",
              "    <tr>\n",
              "      <th>24</th>\n",
              "      <td>Pontiac Firebird</td>\n",
              "      <td>19.2</td>\n",
              "      <td>low</td>\n",
              "    </tr>\n",
              "    <tr>\n",
              "      <th>25</th>\n",
              "      <td>Fiat X1-9</td>\n",
              "      <td>27.3</td>\n",
              "      <td>medium</td>\n",
              "    </tr>\n",
              "    <tr>\n",
              "      <th>26</th>\n",
              "      <td>Porsche 914-2</td>\n",
              "      <td>26.0</td>\n",
              "      <td>medium</td>\n",
              "    </tr>\n",
              "    <tr>\n",
              "      <th>27</th>\n",
              "      <td>Lotus Europa</td>\n",
              "      <td>30.4</td>\n",
              "      <td>high</td>\n",
              "    </tr>\n",
              "    <tr>\n",
              "      <th>28</th>\n",
              "      <td>Ford Pantera L</td>\n",
              "      <td>15.8</td>\n",
              "      <td>low</td>\n",
              "    </tr>\n",
              "    <tr>\n",
              "      <th>29</th>\n",
              "      <td>Ferrari Dino</td>\n",
              "      <td>19.7</td>\n",
              "      <td>low</td>\n",
              "    </tr>\n",
              "    <tr>\n",
              "      <th>30</th>\n",
              "      <td>Maserati Bora</td>\n",
              "      <td>15.0</td>\n",
              "      <td>low</td>\n",
              "    </tr>\n",
              "    <tr>\n",
              "      <th>31</th>\n",
              "      <td>Volvo 142E</td>\n",
              "      <td>21.4</td>\n",
              "      <td>medium</td>\n",
              "    </tr>\n",
              "  </tbody>\n",
              "</table>\n",
              "</div>"
            ],
            "text/plain": [
              "                   Cars   mpg mpg_level\n",
              "0             Mazda RX4  21.0    medium\n",
              "1         Mazda RX4 Wag  21.0    medium\n",
              "2            Datsun 710  22.8    medium\n",
              "3        Hornet 4 Drive  21.4    medium\n",
              "4     Hornet Sportabout  18.7       low\n",
              "5               Valiant  18.1       low\n",
              "6            Duster 360  14.3       low\n",
              "7             Merc 240D  24.4    medium\n",
              "8              Merc 230  22.8    medium\n",
              "9              Merc 280  19.2       low\n",
              "10            Merc 280C  17.8       low\n",
              "11           Merc 450SE  16.4       low\n",
              "12           Merc 450SL  17.3       low\n",
              "13          Merc 450SLC  15.2       low\n",
              "14   Cadillac Fleetwood  10.4       low\n",
              "15  Lincoln Continental  10.4       low\n",
              "16    Chrysler Imperial  14.7       low\n",
              "17             Fiat 128  32.4      high\n",
              "18          Honda Civic  30.4      high\n",
              "19       Toyota Corolla  33.9      high\n",
              "20        Toyota Corona  21.5    medium\n",
              "21     Dodge Challenger  15.5       low\n",
              "22          AMC Javelin  15.2       low\n",
              "23           Camaro Z28  13.3       low\n",
              "24     Pontiac Firebird  19.2       low\n",
              "25            Fiat X1-9  27.3    medium\n",
              "26        Porsche 914-2  26.0    medium\n",
              "27         Lotus Europa  30.4      high\n",
              "28       Ford Pantera L  15.8       low\n",
              "29         Ferrari Dino  19.7       low\n",
              "30        Maserati Bora  15.0       low\n",
              "31           Volvo 142E  21.4    medium"
            ]
          },
          "metadata": {
            "tags": []
          },
          "execution_count": 9
        }
      ]
    },
    {
      "cell_type": "markdown",
      "metadata": {
        "id": "jjsy6LlXeu2j",
        "colab_type": "text"
      },
      "source": [
        "# Visualisasi Data"
      ]
    },
    {
      "cell_type": "code",
      "metadata": {
        "id": "sYOnUEZScuLJ",
        "colab_type": "code",
        "colab": {}
      },
      "source": [
        "import matplotlib.pyplot as plt"
      ],
      "execution_count": 0,
      "outputs": []
    },
    {
      "cell_type": "code",
      "metadata": {
        "id": "vYYv0k2M7mL_",
        "colab_type": "code",
        "colab": {}
      },
      "source": [
        "Menggunakan chart bar"
      ],
      "execution_count": 0,
      "outputs": []
    },
    {
      "cell_type": "code",
      "metadata": {
        "id": "ScvaSFE0yZ8x",
        "colab_type": "code",
        "colab": {
          "base_uri": "https://localhost:8080/",
          "height": 287
        },
        "outputId": "486901e6-fe17-48d6-b88a-cf30e9cd807e"
      },
      "source": [
        "y = np.arange(len(my_data['mpg']))\n",
        "x = my_data['mpg_level']\n",
        "plt.bar(x, y)\n",
        "\n",
        "plt.xlabel('mpg level', fontweight='bold', color= 'white', fontsize='14', horizontalalignment='center')\n",
        "plt.show()"
      ],
      "execution_count": 24,
      "outputs": [
        {
          "output_type": "display_data",
          "data": {
            "image/png": "[encoded data removed]",
            "text/plain": [
              "<Figure size 432x288 with 1 Axes>"
            ]
          },
          "metadata": {
            "tags": []
          }
        }
      ]
    },
    {
      "cell_type": "markdown",
      "metadata": {
        "id": "wLx-5NS57p4P",
        "colab_type": "text"
      },
      "source": [
        "Menggunakan Scatter plot"
      ]
    },
    {
      "cell_type": "code",
      "metadata": {
        "id": "W9feAmMbzqKI",
        "colab_type": "code",
        "colab": {
          "base_uri": "https://localhost:8080/",
          "height": 283
        },
        "outputId": "3c5cdecc-a087-48c9-b785-6a353d3a1371"
      },
      "source": [
        "plt.scatter(x, y, label='mpg', color='green', marker='o', s=20)\n",
        "\n",
        "plt.xlabel('x - axis')\n",
        "plt.ylabel('y - axis')\n",
        "plt.legend()\n",
        "plt.show()"
      ],
      "execution_count": 33,
      "outputs": [
        {
          "output_type": "display_data",
          "data": {
            "image/png": "[encoded data removed]",
            "text/plain": [
              "<Figure size 432x288 with 1 Axes>"
            ]
          },
          "metadata": {
            "tags": []
          }
        }
      ]
    },
    {
      "cell_type": "code",
      "metadata": {
        "id": "nN81oRZ766Gh",
        "colab_type": "code",
        "colab": {}
      },
      "source": [
        ""
      ],
      "execution_count": 0,
      "outputs": []
    }
  ]
}