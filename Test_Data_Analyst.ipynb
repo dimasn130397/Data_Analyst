{
  "nbformat": 4,
  "nbformat_minor": 0,
  "metadata": {
    "colab": {
      "name": "Test Data Analyst.ipynb",
      "provenance": [],
      "include_colab_link": true
    },
    "kernelspec": {
      "name": "python3",
      "display_name": "Python 3"
    },
    "accelerator": "GPU"
  },
  "cells": [
    {
      "cell_type": "markdown",
      "metadata": {
        "id": "view-in-github",
        "colab_type": "text"
      },
      "source": [
        "<a href=\"https://colab.research.google.com/github/dimasn130397/Data_Analyst/blob/master/Test_Data_Analyst.ipynb\" target=\"_parent\"><img src=\"https://colab.research.google.com/assets/colab-badge.svg\" alt=\"Open In Colab\"/></a>"
      ]
    },
    {
      "cell_type": "markdown",
      "metadata": {
        "id": "jG-cM4YBgeT2",
        "colab_type": "text"
      },
      "source": [
        "Import Librarry"
      ]
    },
    {
      "cell_type": "code",
      "metadata": {
        "id": "AXRlNgSKeq97",
        "colab_type": "code",
        "colab": {}
      },
      "source": [
        "import pandas as pd\n",
        "import numpy as np"
      ],
      "execution_count": 0,
      "outputs": []
    },
    {
      "cell_type": "markdown",
      "metadata": {
        "id": "lhOJvEloghrQ",
        "colab_type": "text"
      },
      "source": [
        "Import files .csv"
      ]
    },
    {
      "cell_type": "code",
      "metadata": {
        "id": "CnIxME8jcdVd",
        "colab_type": "code",
        "colab": {}
      },
      "source": [
        "url = 'https://raw.githubusercontent.com/dimasn130397/Data_Analyst/master/Inflasi.csv'"
      ],
      "execution_count": 0,
      "outputs": []
    },
    {
      "cell_type": "markdown",
      "metadata": {
        "id": "bqVJM-1qglVy",
        "colab_type": "text"
      },
      "source": [
        "Read Data"
      ]
    },
    {
      "cell_type": "code",
      "metadata": {
        "id": "goUoKr69WO4W",
        "colab_type": "code",
        "colab": {
          "base_uri": "https://localhost:8080/",
          "height": 195
        },
        "outputId": "270655d8-48b1-49f6-d07a-f9e9e9315af6"
      },
      "source": [
        "my_data = pd.read_csv('https://raw.githubusercontent.com/dimasn130397/Data_Analyst/master/Inflasi.csv')\n",
        "my_data.head()"
      ],
      "execution_count": 34,
      "outputs": [
        {
          "output_type": "execute_result",
          "data": {
            "text/html": [
              "<div>\n",
              "<style scoped>\n",
              "    .dataframe tbody tr th:only-of-type {\n",
              "        vertical-align: middle;\n",
              "    }\n",
              "\n",
              "    .dataframe tbody tr th {\n",
              "        vertical-align: top;\n",
              "    }\n",
              "\n",
              "    .dataframe thead th {\n",
              "        text-align: right;\n",
              "    }\n",
              "</style>\n",
              "<table border=\"1\" class=\"dataframe\">\n",
              "  <thead>\n",
              "    <tr style=\"text-align: right;\">\n",
              "      <th></th>\n",
              "      <th>Month</th>\n",
              "      <th>Inflasi</th>\n",
              "    </tr>\n",
              "  </thead>\n",
              "  <tbody>\n",
              "    <tr>\n",
              "      <th>0</th>\n",
              "      <td>Juni 2019</td>\n",
              "      <td>3.28%</td>\n",
              "    </tr>\n",
              "    <tr>\n",
              "      <th>1</th>\n",
              "      <td>Mei 2019</td>\n",
              "      <td>3.32%</td>\n",
              "    </tr>\n",
              "    <tr>\n",
              "      <th>2</th>\n",
              "      <td>April 2019</td>\n",
              "      <td>2.83%</td>\n",
              "    </tr>\n",
              "    <tr>\n",
              "      <th>3</th>\n",
              "      <td>Maret 2019</td>\n",
              "      <td>2.48%</td>\n",
              "    </tr>\n",
              "    <tr>\n",
              "      <th>4</th>\n",
              "      <td>Februari 2019</td>\n",
              "      <td>2.57%</td>\n",
              "    </tr>\n",
              "  </tbody>\n",
              "</table>\n",
              "</div>"
            ],
            "text/plain": [
              "           Month Inflasi\n",
              "0      Juni 2019   3.28%\n",
              "1       Mei 2019   3.32%\n",
              "2     April 2019   2.83%\n",
              "3     Maret 2019   2.48%\n",
              "4  Februari 2019   2.57%"
            ]
          },
          "metadata": {
            "tags": []
          },
          "execution_count": 34
        }
      ]
    },
    {
      "cell_type": "markdown",
      "metadata": {
        "id": "ipl8sjjUgoNH",
        "colab_type": "text"
      },
      "source": [
        "Data Info"
      ]
    },
    {
      "cell_type": "code",
      "metadata": {
        "id": "Z1WNtUBTe1cf",
        "colab_type": "code",
        "colab": {
          "base_uri": "https://localhost:8080/",
          "height": 1000
        },
        "outputId": "fd17ac12-05aa-4dbd-c967-0dcce4935e3b"
      },
      "source": [
        "my_data.info"
      ],
      "execution_count": 35,
      "outputs": [
        {
          "output_type": "execute_result",
          "data": {
            "text/plain": [
              "<bound method DataFrame.info of               Month Inflasi\n",
              "0         Juni 2019   3.28%\n",
              "1          Mei 2019   3.32%\n",
              "2        April 2019   2.83%\n",
              "3        Maret 2019   2.48%\n",
              "4     Februari 2019   2.57%\n",
              "5      Januari 2019   2.82%\n",
              "6     Desember 2018   3.13%\n",
              "7     Nopember 2018   3.23%\n",
              "8      Oktober 2018   3.16%\n",
              "9    September 2018   2.88%\n",
              "10     Agustus 2018   3.20%\n",
              "11        Juli 2018   3.18%\n",
              "12        Juni 2018   3.12%\n",
              "13         Mei 2018   3.23%\n",
              "14       April 2018   3.41%\n",
              "15       Maret 2018   3.40%\n",
              "16    Februari 2018   3.18%\n",
              "17     Januari 2018   3.25%\n",
              "18    Desember 2017   3.61%\n",
              "19    Nopember 2017   3.30%\n",
              "20     Oktober 2017   3.58%\n",
              "21   September 2017   3.72%\n",
              "22     Agustus 2017   3.82%\n",
              "23        Juli 2017   3.88%\n",
              "24        Juni 2017   4.37%\n",
              "25         Mei 2017   4.33%\n",
              "26       April 2017   4.17%\n",
              "27       Maret 2017   3.61%\n",
              "28    Februari 2017   3.83%\n",
              "29     Januari 2017   3.49%\n",
              "..              ...     ...\n",
              "169        Mei 2005   7.40%\n",
              "170      April 2005   8.12%\n",
              "171      Maret 2005   8.81%\n",
              "172   Februari 2005   7.15%\n",
              "173    Januari 2005   7.32%\n",
              "174   Desember 2004   6.40%\n",
              "175   Nopember 2004   6.18%\n",
              "176    Oktober 2004   6.22%\n",
              "177  September 2004   6.27%\n",
              "178    Agustus 2004   6.67%\n",
              "179       Juli 2004   7.20%\n",
              "180       Juni 2004   6.83%\n",
              "181        Mei 2004   6.47%\n",
              "182      April 2004   5.92%\n",
              "183      Maret 2004   5.11%\n",
              "184   Februari 2004   4.60%\n",
              "185    Januari 2004   4.82%\n",
              "186   Desember 2003   5.16%\n",
              "187   Nopember 2003   5.53%\n",
              "188    Oktober 2003   6.48%\n",
              "189  September 2003   6.33%\n",
              "190    Agustus 2003   6.51%\n",
              "191       Juli 2003   6.27%\n",
              "192       Juni 2003   6.98%\n",
              "193        Mei 2003   7.15%\n",
              "194      April 2003   7.62%\n",
              "195      Maret 2003   7.17%\n",
              "196   Februari 2003   7.60%\n",
              "197    Januari 2003   8.68%\n",
              "198   Desember 2002   0.00%\n",
              "\n",
              "[199 rows x 2 columns]>"
            ]
          },
          "metadata": {
            "tags": []
          },
          "execution_count": 35
        }
      ]
    },
    {
      "cell_type": "markdown",
      "metadata": {
        "id": "o_TD9VKNhK8J",
        "colab_type": "text"
      },
      "source": [
        "Type Data"
      ]
    },
    {
      "cell_type": "code",
      "metadata": {
        "id": "FwO5SzXcgwxi",
        "colab_type": "code",
        "colab": {
          "base_uri": "https://localhost:8080/",
          "height": 67
        },
        "outputId": "3cd7790c-99fb-4f53-9882-f97c7b94d99a"
      },
      "source": [
        "my_data.dtypes"
      ],
      "execution_count": 55,
      "outputs": [
        {
          "output_type": "execute_result",
          "data": {
            "text/plain": [
              "Month      object\n",
              "Inflasi    object\n",
              "dtype: object"
            ]
          },
          "metadata": {
            "tags": []
          },
          "execution_count": 55
        }
      ]
    },
    {
      "cell_type": "markdown",
      "metadata": {
        "id": "SmqbnO_YhR4Q",
        "colab_type": "text"
      },
      "source": [
        "Kolom yang ada pada Data Frame"
      ]
    },
    {
      "cell_type": "code",
      "metadata": {
        "id": "9juivXdghHhO",
        "colab_type": "code",
        "colab": {
          "base_uri": "https://localhost:8080/",
          "height": 34
        },
        "outputId": "a1979ccd-053a-463c-9f77-05ea7caddcea"
      },
      "source": [
        "my_data.columns"
      ],
      "execution_count": 39,
      "outputs": [
        {
          "output_type": "execute_result",
          "data": {
            "text/plain": [
              "Index(['Month', 'Inflasi'], dtype='object')"
            ]
          },
          "metadata": {
            "tags": []
          },
          "execution_count": 39
        }
      ]
    },
    {
      "cell_type": "code",
      "metadata": {
        "id": "pNijOWX-k0lK",
        "colab_type": "code",
        "colab": {}
      },
      "source": [
        "my_data['Inflasi'] = my_data['Inflasi'].str.rstrip('%').astype('float') / 100.0"
      ],
      "execution_count": 0,
      "outputs": []
    },
    {
      "cell_type": "code",
      "metadata": {
        "id": "qxI3kD8asAp6",
        "colab_type": "code",
        "colab": {
          "base_uri": "https://localhost:8080/",
          "height": 67
        },
        "outputId": "07d07394-1c20-4545-e218-4b643e4a5993"
      },
      "source": [
        "my_data.dtypes"
      ],
      "execution_count": 66,
      "outputs": [
        {
          "output_type": "execute_result",
          "data": {
            "text/plain": [
              "Month       object\n",
              "Inflasi    float64\n",
              "dtype: object"
            ]
          },
          "metadata": {
            "tags": []
          },
          "execution_count": 66
        }
      ]
    },
    {
      "cell_type": "code",
      "metadata": {
        "id": "Mu7pi-CQsIDl",
        "colab_type": "code",
        "colab": {
          "base_uri": "https://localhost:8080/",
          "height": 195
        },
        "outputId": "552a1e50-6e4f-44ad-ae84-791a2229903e"
      },
      "source": [
        "my_data.head()"
      ],
      "execution_count": 67,
      "outputs": [
        {
          "output_type": "execute_result",
          "data": {
            "text/html": [
              "<div>\n",
              "<style scoped>\n",
              "    .dataframe tbody tr th:only-of-type {\n",
              "        vertical-align: middle;\n",
              "    }\n",
              "\n",
              "    .dataframe tbody tr th {\n",
              "        vertical-align: top;\n",
              "    }\n",
              "\n",
              "    .dataframe thead th {\n",
              "        text-align: right;\n",
              "    }\n",
              "</style>\n",
              "<table border=\"1\" class=\"dataframe\">\n",
              "  <thead>\n",
              "    <tr style=\"text-align: right;\">\n",
              "      <th></th>\n",
              "      <th>Month</th>\n",
              "      <th>Inflasi</th>\n",
              "    </tr>\n",
              "  </thead>\n",
              "  <tbody>\n",
              "    <tr>\n",
              "      <th>0</th>\n",
              "      <td>Juni 2019</td>\n",
              "      <td>0.0328</td>\n",
              "    </tr>\n",
              "    <tr>\n",
              "      <th>1</th>\n",
              "      <td>Mei 2019</td>\n",
              "      <td>0.0332</td>\n",
              "    </tr>\n",
              "    <tr>\n",
              "      <th>2</th>\n",
              "      <td>April 2019</td>\n",
              "      <td>0.0283</td>\n",
              "    </tr>\n",
              "    <tr>\n",
              "      <th>3</th>\n",
              "      <td>Maret 2019</td>\n",
              "      <td>0.0248</td>\n",
              "    </tr>\n",
              "    <tr>\n",
              "      <th>4</th>\n",
              "      <td>Februari 2019</td>\n",
              "      <td>0.0257</td>\n",
              "    </tr>\n",
              "  </tbody>\n",
              "</table>\n",
              "</div>"
            ],
            "text/plain": [
              "           Month  Inflasi\n",
              "0      Juni 2019   0.0328\n",
              "1       Mei 2019   0.0332\n",
              "2     April 2019   0.0283\n",
              "3     Maret 2019   0.0248\n",
              "4  Februari 2019   0.0257"
            ]
          },
          "metadata": {
            "tags": []
          },
          "execution_count": 67
        }
      ]
    },
    {
      "cell_type": "code",
      "metadata": {
        "id": "2b2P1qCCvNf_",
        "colab_type": "code",
        "colab": {}
      },
      "source": [
        ""
      ],
      "execution_count": 0,
      "outputs": []
    }
  ]
}