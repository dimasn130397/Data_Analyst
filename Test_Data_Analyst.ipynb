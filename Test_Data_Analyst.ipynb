{
  "nbformat": 4,
  "nbformat_minor": 0,
  "metadata": {
    "colab": {
      "name": "Test Data Analyst.ipynb",
      "provenance": [],
      "include_colab_link": true
    },
    "kernelspec": {
      "name": "python3",
      "display_name": "Python 3"
    },
    "accelerator": "GPU"
  },
  "cells": [
    {
      "cell_type": "markdown",
      "metadata": {
        "id": "view-in-github",
        "colab_type": "text"
      },
      "source": [
        "<a href=\"https://colab.research.google.com/github/dimasn130397/Data_Analyst/blob/master/Test_Data_Analyst.ipynb\" target=\"_parent\"><img src=\"https://colab.research.google.com/assets/colab-badge.svg\" alt=\"Open In Colab\"/></a>"
      ]
    },
    {
      "cell_type": "markdown",
      "metadata": {
        "id": "jG-cM4YBgeT2",
        "colab_type": "text"
      },
      "source": [
        "Import Librarry"
      ]
    },
    {
      "cell_type": "code",
      "metadata": {
        "id": "AXRlNgSKeq97",
        "colab_type": "code",
        "colab": {}
      },
      "source": [
        "import pandas as pd\n",
        "import numpy as np"
      ],
      "execution_count": 0,
      "outputs": []
    },
    {
      "cell_type": "markdown",
      "metadata": {
        "id": "lhOJvEloghrQ",
        "colab_type": "text"
      },
      "source": [
        "Import files .csv"
      ]
    },
    {
      "cell_type": "code",
      "metadata": {
        "id": "CnIxME8jcdVd",
        "colab_type": "code",
        "colab": {}
      },
      "source": [
        "url = 'https://raw.githubusercontent.com/dimasn130397/Data_Analyst/master/Inflasi.csv'"
      ],
      "execution_count": 0,
      "outputs": []
    },
    {
      "cell_type": "markdown",
      "metadata": {
        "id": "bqVJM-1qglVy",
        "colab_type": "text"
      },
      "source": [
        "Read Data"
      ]
    },
    {
      "cell_type": "code",
      "metadata": {
        "id": "goUoKr69WO4W",
        "colab_type": "code",
        "colab": {
          "base_uri": "https://localhost:8080/",
          "height": 195
        },
        "outputId": "270655d8-48b1-49f6-d07a-f9e9e9315af6"
      },
      "source": [
        "my_data = pd.read_csv('https://raw.githubusercontent.com/dimasn130397/Data_Analyst/master/Inflasi.csv')\n",
        "my_data.head()"
      ],
      "execution_count": 34,
      "outputs": [
        {
          "output_type": "execute_result",
          "data": {
            "text/html": [
              "<div>\n",
              "<style scoped>\n",
              "    .dataframe tbody tr th:only-of-type {\n",
              "        vertical-align: middle;\n",
              "    }\n",
              "\n",
              "    .dataframe tbody tr th {\n",
              "        vertical-align: top;\n",
              "    }\n",
              "\n",
              "    .dataframe thead th {\n",
              "        text-align: right;\n",
              "    }\n",
              "</style>\n",
              "<table border=\"1\" class=\"dataframe\">\n",
              "  <thead>\n",
              "    <tr style=\"text-align: right;\">\n",
              "      <th></th>\n",
              "      <th>Month</th>\n",
              "      <th>Inflasi</th>\n",
              "    </tr>\n",
              "  </thead>\n",
              "  <tbody>\n",
              "    <tr>\n",
              "      <th>0</th>\n",
              "      <td>Juni 2019</td>\n",
              "      <td>3.28%</td>\n",
              "    </tr>\n",
              "    <tr>\n",
              "      <th>1</th>\n",
              "      <td>Mei 2019</td>\n",
              "      <td>3.32%</td>\n",
              "    </tr>\n",
              "    <tr>\n",
              "      <th>2</th>\n",
              "      <td>April 2019</td>\n",
              "      <td>2.83%</td>\n",
              "    </tr>\n",
              "    <tr>\n",
              "      <th>3</th>\n",
              "      <td>Maret 2019</td>\n",
              "      <td>2.48%</td>\n",
              "    </tr>\n",
              "    <tr>\n",
              "      <th>4</th>\n",
              "      <td>Februari 2019</td>\n",
              "      <td>2.57%</td>\n",
              "    </tr>\n",
              "  </tbody>\n",
              "</table>\n",
              "</div>"
            ],
            "text/plain": [
              "           Month Inflasi\n",
              "0      Juni 2019   3.28%\n",
              "1       Mei 2019   3.32%\n",
              "2     April 2019   2.83%\n",
              "3     Maret 2019   2.48%\n",
              "4  Februari 2019   2.57%"
            ]
          },
          "metadata": {
            "tags": []
          },
          "execution_count": 34
        }
      ]
    },
    {
      "cell_type": "markdown",
      "metadata": {
        "id": "ipl8sjjUgoNH",
        "colab_type": "text"
      },
      "source": [
        "Data Info"
      ]
    },
    {
      "cell_type": "code",
      "metadata": {
        "id": "Z1WNtUBTe1cf",
        "colab_type": "code",
        "colab": {
          "base_uri": "https://localhost:8080/",
          "height": 1000
        },
        "outputId": "fd17ac12-05aa-4dbd-c967-0dcce4935e3b"
      },
      "source": [
        "my_data.info"
      ],
      "execution_count": 35,
      "outputs": [
        {
          "output_type": "execute_result",
          "data": {
            "text/plain": [
              "<bound method DataFrame.info of               Month Inflasi\n",
              "0         Juni 2019   3.28%\n",
              "1          Mei 2019   3.32%\n",
              "2        April 2019   2.83%\n",
              "3        Maret 2019   2.48%\n",
              "4     Februari 2019   2.57%\n",
              "5      Januari 2019   2.82%\n",
              "6     Desember 2018   3.13%\n",
              "7     Nopember 2018   3.23%\n",
              "8      Oktober 2018   3.16%\n",
              "9    September 2018   2.88%\n",
              "10     Agustus 2018   3.20%\n",
              "11        Juli 2018   3.18%\n",
              "12        Juni 2018   3.12%\n",
              "13         Mei 2018   3.23%\n",
              "14       April 2018   3.41%\n",
              "15       Maret 2018   3.40%\n",
              "16    Februari 2018   3.18%\n",
              "17     Januari 2018   3.25%\n",
              "18    Desember 2017   3.61%\n",
              "19    Nopember 2017   3.30%\n",
              "20     Oktober 2017   3.58%\n",
              "21   September 2017   3.72%\n",
              "22     Agustus 2017   3.82%\n",
              "23        Juli 2017   3.88%\n",
              "24        Juni 2017   4.37%\n",
              "25         Mei 2017   4.33%\n",
              "26       April 2017   4.17%\n",
              "27       Maret 2017   3.61%\n",
              "28    Februari 2017   3.83%\n",
              "29     Januari 2017   3.49%\n",
              "..              ...     ...\n",
              "169        Mei 2005   7.40%\n",
              "170      April 2005   8.12%\n",
              "171      Maret 2005   8.81%\n",
              "172   Februari 2005   7.15%\n",
              "173    Januari 2005   7.32%\n",
              "174   Desember 2004   6.40%\n",
              "175   Nopember 2004   6.18%\n",
              "176    Oktober 2004   6.22%\n",
              "177  September 2004   6.27%\n",
              "178    Agustus 2004   6.67%\n",
              "179       Juli 2004   7.20%\n",
              "180       Juni 2004   6.83%\n",
              "181        Mei 2004   6.47%\n",
              "182      April 2004   5.92%\n",
              "183      Maret 2004   5.11%\n",
              "184   Februari 2004   4.60%\n",
              "185    Januari 2004   4.82%\n",
              "186   Desember 2003   5.16%\n",
              "187   Nopember 2003   5.53%\n",
              "188    Oktober 2003   6.48%\n",
              "189  September 2003   6.33%\n",
              "190    Agustus 2003   6.51%\n",
              "191       Juli 2003   6.27%\n",
              "192       Juni 2003   6.98%\n",
              "193        Mei 2003   7.15%\n",
              "194      April 2003   7.62%\n",
              "195      Maret 2003   7.17%\n",
              "196   Februari 2003   7.60%\n",
              "197    Januari 2003   8.68%\n",
              "198   Desember 2002   0.00%\n",
              "\n",
              "[199 rows x 2 columns]>"
            ]
          },
          "metadata": {
            "tags": []
          },
          "execution_count": 35
        }
      ]
    },
    {
      "cell_type": "markdown",
      "metadata": {
        "id": "o_TD9VKNhK8J",
        "colab_type": "text"
      },
      "source": [
        "Type Data"
      ]
    },
    {
      "cell_type": "code",
      "metadata": {
        "id": "FwO5SzXcgwxi",
        "colab_type": "code",
        "colab": {
          "base_uri": "https://localhost:8080/",
          "height": 67
        },
        "outputId": "3cd7790c-99fb-4f53-9882-f97c7b94d99a"
      },
      "source": [
        "my_data.dtypes"
      ],
      "execution_count": 55,
      "outputs": [
        {
          "output_type": "execute_result",
          "data": {
            "text/plain": [
              "Month      object\n",
              "Inflasi    object\n",
              "dtype: object"
            ]
          },
          "metadata": {
            "tags": []
          },
          "execution_count": 55
        }
      ]
    },
    {
      "cell_type": "markdown",
      "metadata": {
        "id": "SmqbnO_YhR4Q",
        "colab_type": "text"
      },
      "source": [
        "Kolom yang ada pada Data Frame"
      ]
    },
    {
      "cell_type": "code",
      "metadata": {
        "id": "9juivXdghHhO",
        "colab_type": "code",
        "colab": {
          "base_uri": "https://localhost:8080/",
          "height": 34
        },
        "outputId": "a1979ccd-053a-463c-9f77-05ea7caddcea"
      },
      "source": [
        "my_data.columns"
      ],
      "execution_count": 39,
      "outputs": [
        {
          "output_type": "execute_result",
          "data": {
            "text/plain": [
              "Index(['Month', 'Inflasi'], dtype='object')"
            ]
          },
          "metadata": {
            "tags": []
          },
          "execution_count": 39
        }
      ]
    },
    {
      "cell_type": "markdown",
      "metadata": {
        "id": "73yYlCv93RmY",
        "colab_type": "text"
      },
      "source": [
        "# Preprocessing"
      ]
    },
    {
      "cell_type": "markdown",
      "metadata": {
        "id": "m3EoNNNtxJh_",
        "colab_type": "text"
      },
      "source": [
        "Convert Object to Float pada kolom inflasi untuk mempermudah mengolah prediksi data"
      ]
    },
    {
      "cell_type": "markdown",
      "metadata": {
        "id": "gkTM87Eo3VJq",
        "colab_type": "text"
      },
      "source": [
        ""
      ]
    },
    {
      "cell_type": "code",
      "metadata": {
        "id": "pNijOWX-k0lK",
        "colab_type": "code",
        "colab": {}
      },
      "source": [
        "my_data['Inflasi'] = my_data['Inflasi'].str.rstrip('%').astype('float') / 100.0"
      ],
      "execution_count": 0,
      "outputs": []
    },
    {
      "cell_type": "code",
      "metadata": {
        "id": "qxI3kD8asAp6",
        "colab_type": "code",
        "colab": {
          "base_uri": "https://localhost:8080/",
          "height": 67
        },
        "outputId": "07d07394-1c20-4545-e218-4b643e4a5993"
      },
      "source": [
        "my_data.dtypes"
      ],
      "execution_count": 66,
      "outputs": [
        {
          "output_type": "execute_result",
          "data": {
            "text/plain": [
              "Month       object\n",
              "Inflasi    float64\n",
              "dtype: object"
            ]
          },
          "metadata": {
            "tags": []
          },
          "execution_count": 66
        }
      ]
    },
    {
      "cell_type": "code",
      "metadata": {
        "id": "Mu7pi-CQsIDl",
        "colab_type": "code",
        "colab": {
          "base_uri": "https://localhost:8080/",
          "height": 195
        },
        "outputId": "552a1e50-6e4f-44ad-ae84-791a2229903e"
      },
      "source": [
        "my_data.head()"
      ],
      "execution_count": 67,
      "outputs": [
        {
          "output_type": "execute_result",
          "data": {
            "text/html": [
              "<div>\n",
              "<style scoped>\n",
              "    .dataframe tbody tr th:only-of-type {\n",
              "        vertical-align: middle;\n",
              "    }\n",
              "\n",
              "    .dataframe tbody tr th {\n",
              "        vertical-align: top;\n",
              "    }\n",
              "\n",
              "    .dataframe thead th {\n",
              "        text-align: right;\n",
              "    }\n",
              "</style>\n",
              "<table border=\"1\" class=\"dataframe\">\n",
              "  <thead>\n",
              "    <tr style=\"text-align: right;\">\n",
              "      <th></th>\n",
              "      <th>Month</th>\n",
              "      <th>Inflasi</th>\n",
              "    </tr>\n",
              "  </thead>\n",
              "  <tbody>\n",
              "    <tr>\n",
              "      <th>0</th>\n",
              "      <td>Juni 2019</td>\n",
              "      <td>0.0328</td>\n",
              "    </tr>\n",
              "    <tr>\n",
              "      <th>1</th>\n",
              "      <td>Mei 2019</td>\n",
              "      <td>0.0332</td>\n",
              "    </tr>\n",
              "    <tr>\n",
              "      <th>2</th>\n",
              "      <td>April 2019</td>\n",
              "      <td>0.0283</td>\n",
              "    </tr>\n",
              "    <tr>\n",
              "      <th>3</th>\n",
              "      <td>Maret 2019</td>\n",
              "      <td>0.0248</td>\n",
              "    </tr>\n",
              "    <tr>\n",
              "      <th>4</th>\n",
              "      <td>Februari 2019</td>\n",
              "      <td>0.0257</td>\n",
              "    </tr>\n",
              "  </tbody>\n",
              "</table>\n",
              "</div>"
            ],
            "text/plain": [
              "           Month  Inflasi\n",
              "0      Juni 2019   0.0328\n",
              "1       Mei 2019   0.0332\n",
              "2     April 2019   0.0283\n",
              "3     Maret 2019   0.0248\n",
              "4  Februari 2019   0.0257"
            ]
          },
          "metadata": {
            "tags": []
          },
          "execution_count": 67
        }
      ]
    },
    {
      "cell_type": "code",
      "metadata": {
        "id": "2b2P1qCCvNf_",
        "colab_type": "code",
        "colab": {
          "base_uri": "https://localhost:8080/",
          "height": 84
        },
        "outputId": "ed9ff716-5152-4912-aa6b-8bb9b4787ebf"
      },
      "source": [
        "x = my_data[['Inflasi']].values\n",
        "x[0:4]"
      ],
      "execution_count": 68,
      "outputs": [
        {
          "output_type": "execute_result",
          "data": {
            "text/plain": [
              "array([[0.0328],\n",
              "       [0.0332],\n",
              "       [0.0283],\n",
              "       [0.0248]])"
            ]
          },
          "metadata": {
            "tags": []
          },
          "execution_count": 68
        }
      ]
    },
    {
      "cell_type": "code",
      "metadata": {
        "id": "BXeiFh1ZyOpu",
        "colab_type": "code",
        "colab": {
          "base_uri": "https://localhost:8080/",
          "height": 50
        },
        "outputId": "49e8ca21-80c1-49ba-98ec-f89e6bc6f586"
      },
      "source": [
        "y = my_data['Month'].values\n",
        "y[0:5]"
      ],
      "execution_count": 70,
      "outputs": [
        {
          "output_type": "execute_result",
          "data": {
            "text/plain": [
              "array(['Juni 2019', 'Mei 2019', 'April 2019', 'Maret 2019',\n",
              "       'Februari 2019'], dtype=object)"
            ]
          },
          "metadata": {
            "tags": []
          },
          "execution_count": 70
        }
      ]
    },
    {
      "cell_type": "code",
      "metadata": {
        "id": "YPtTsu33zZ0U",
        "colab_type": "code",
        "colab": {
          "base_uri": "https://localhost:8080/",
          "height": 50
        },
        "outputId": "45da6d51-7406-4816-ee9d-a8ec3da96618"
      },
      "source": [
        "from sklearn.model_selection import train_test_split\n",
        "x_train, x_test, y_train, y_test = train_test_split(x,y, test_size=0.2, random_state=4)\n",
        "print('Train : ', x_train.shape, y_train.shape)\n",
        "print('Test : ', x_test.shape, y_test.shape)"
      ],
      "execution_count": 71,
      "outputs": [
        {
          "output_type": "stream",
          "text": [
            "Train :  (159, 1) (159,)\n",
            "Test :  (40, 1) (40,)\n"
          ],
          "name": "stdout"
        }
      ]
    },
    {
      "cell_type": "markdown",
      "metadata": {
        "id": "emFUoZu83LQG",
        "colab_type": "text"
      },
      "source": [
        "Prediksi menggunakan Metode KNN"
      ]
    },
    {
      "cell_type": "code",
      "metadata": {
        "id": "oh8WJFFA2bMQ",
        "colab_type": "code",
        "colab": {}
      },
      "source": [
        "from sklearn.neighbors import KNeighborsClassifier"
      ],
      "execution_count": 0,
      "outputs": []
    },
    {
      "cell_type": "code",
      "metadata": {
        "id": "-Fyz6iPe3uC5",
        "colab_type": "code",
        "colab": {
          "base_uri": "https://localhost:8080/",
          "height": 67
        },
        "outputId": "ee77f836-7315-498f-c3ab-684165a730f8"
      },
      "source": [
        "k = 2\n",
        "kn = KNeighborsClassifier(n_neighbors = k).fit(x_train,y_train)\n",
        "kn"
      ],
      "execution_count": 74,
      "outputs": [
        {
          "output_type": "execute_result",
          "data": {
            "text/plain": [
              "KNeighborsClassifier(algorithm='auto', leaf_size=30, metric='minkowski',\n",
              "                     metric_params=None, n_jobs=None, n_neighbors=2, p=2,\n",
              "                     weights='uniform')"
            ]
          },
          "metadata": {
            "tags": []
          },
          "execution_count": 74
        }
      ]
    },
    {
      "cell_type": "code",
      "metadata": {
        "id": "QygN7PpQ3wiT",
        "colab_type": "code",
        "colab": {
          "base_uri": "https://localhost:8080/",
          "height": 202
        },
        "outputId": "08831eab-5985-48e2-fabf-93a960d097b1"
      },
      "source": [
        "prediksi = kn.predict(x_test)\n",
        "prediksi"
      ],
      "execution_count": 76,
      "outputs": [
        {
          "output_type": "execute_result",
          "data": {
            "text/plain": [
              "array(['Agustus 2018', 'Oktober 2010', 'Desember 2009', 'Agustus 2013',\n",
              "       'Mei 2016', 'Desember 2013', 'Agustus 2006', 'Juli 2008',\n",
              "       'April 2014', 'Juli 2011', 'Februari 2007', 'April 2007',\n",
              "       'Januari 2015', 'Januari 2005', 'Juli 2011', 'Agustus 2007',\n",
              "       'Januari 2013', 'Juli 2017', 'Agustus 2013', 'Maret 2004',\n",
              "       'Juni 2009', 'Januari 2013', 'Februari 2019', 'Desember 2016',\n",
              "       'Nopember 2016', 'Juni 2016', 'Juni 2018', 'Juni 2016',\n",
              "       'Maret 2019', 'April 2013', 'April 2016', 'Juni 2013',\n",
              "       'Februari 2011', 'Januari 2007', 'Desember 2009', 'Agustus 2004',\n",
              "       'Agustus 2017', 'Januari 2015', 'Juni 2006', 'Mei 2010'],\n",
              "      dtype=object)"
            ]
          },
          "metadata": {
            "tags": []
          },
          "execution_count": 76
        }
      ]
    },
    {
      "cell_type": "markdown",
      "metadata": {
        "id": "O6NUTARw4v_1",
        "colab_type": "text"
      },
      "source": [
        "# Visualisasi Data"
      ]
    },
    {
      "cell_type": "code",
      "metadata": {
        "id": "fBi0eXn-4s5j",
        "colab_type": "code",
        "colab": {
          "base_uri": "https://localhost:8080/",
          "height": 1000
        },
        "outputId": "61a0c846-d703-4491-84a9-4bc679605717"
      },
      "source": [
        "my_data"
      ],
      "execution_count": 86,
      "outputs": [
        {
          "output_type": "execute_result",
          "data": {
            "text/html": [
              "<div>\n",
              "<style scoped>\n",
              "    .dataframe tbody tr th:only-of-type {\n",
              "        vertical-align: middle;\n",
              "    }\n",
              "\n",
              "    .dataframe tbody tr th {\n",
              "        vertical-align: top;\n",
              "    }\n",
              "\n",
              "    .dataframe thead th {\n",
              "        text-align: right;\n",
              "    }\n",
              "</style>\n",
              "<table border=\"1\" class=\"dataframe\">\n",
              "  <thead>\n",
              "    <tr style=\"text-align: right;\">\n",
              "      <th></th>\n",
              "      <th>Month</th>\n",
              "      <th>Inflasi</th>\n",
              "    </tr>\n",
              "  </thead>\n",
              "  <tbody>\n",
              "    <tr>\n",
              "      <th>0</th>\n",
              "      <td>Juni 2019</td>\n",
              "      <td>0.0328</td>\n",
              "    </tr>\n",
              "    <tr>\n",
              "      <th>1</th>\n",
              "      <td>Mei 2019</td>\n",
              "      <td>0.0332</td>\n",
              "    </tr>\n",
              "    <tr>\n",
              "      <th>2</th>\n",
              "      <td>April 2019</td>\n",
              "      <td>0.0283</td>\n",
              "    </tr>\n",
              "    <tr>\n",
              "      <th>3</th>\n",
              "      <td>Maret 2019</td>\n",
              "      <td>0.0248</td>\n",
              "    </tr>\n",
              "    <tr>\n",
              "      <th>4</th>\n",
              "      <td>Februari 2019</td>\n",
              "      <td>0.0257</td>\n",
              "    </tr>\n",
              "    <tr>\n",
              "      <th>5</th>\n",
              "      <td>Januari 2019</td>\n",
              "      <td>0.0282</td>\n",
              "    </tr>\n",
              "    <tr>\n",
              "      <th>6</th>\n",
              "      <td>Desember 2018</td>\n",
              "      <td>0.0313</td>\n",
              "    </tr>\n",
              "    <tr>\n",
              "      <th>7</th>\n",
              "      <td>Nopember 2018</td>\n",
              "      <td>0.0323</td>\n",
              "    </tr>\n",
              "    <tr>\n",
              "      <th>8</th>\n",
              "      <td>Oktober 2018</td>\n",
              "      <td>0.0316</td>\n",
              "    </tr>\n",
              "    <tr>\n",
              "      <th>9</th>\n",
              "      <td>September 2018</td>\n",
              "      <td>0.0288</td>\n",
              "    </tr>\n",
              "    <tr>\n",
              "      <th>10</th>\n",
              "      <td>Agustus 2018</td>\n",
              "      <td>0.0320</td>\n",
              "    </tr>\n",
              "    <tr>\n",
              "      <th>11</th>\n",
              "      <td>Juli 2018</td>\n",
              "      <td>0.0318</td>\n",
              "    </tr>\n",
              "    <tr>\n",
              "      <th>12</th>\n",
              "      <td>Juni 2018</td>\n",
              "      <td>0.0312</td>\n",
              "    </tr>\n",
              "    <tr>\n",
              "      <th>13</th>\n",
              "      <td>Mei 2018</td>\n",
              "      <td>0.0323</td>\n",
              "    </tr>\n",
              "    <tr>\n",
              "      <th>14</th>\n",
              "      <td>April 2018</td>\n",
              "      <td>0.0341</td>\n",
              "    </tr>\n",
              "    <tr>\n",
              "      <th>15</th>\n",
              "      <td>Maret 2018</td>\n",
              "      <td>0.0340</td>\n",
              "    </tr>\n",
              "    <tr>\n",
              "      <th>16</th>\n",
              "      <td>Februari 2018</td>\n",
              "      <td>0.0318</td>\n",
              "    </tr>\n",
              "    <tr>\n",
              "      <th>17</th>\n",
              "      <td>Januari 2018</td>\n",
              "      <td>0.0325</td>\n",
              "    </tr>\n",
              "    <tr>\n",
              "      <th>18</th>\n",
              "      <td>Desember 2017</td>\n",
              "      <td>0.0361</td>\n",
              "    </tr>\n",
              "    <tr>\n",
              "      <th>19</th>\n",
              "      <td>Nopember 2017</td>\n",
              "      <td>0.0330</td>\n",
              "    </tr>\n",
              "    <tr>\n",
              "      <th>20</th>\n",
              "      <td>Oktober 2017</td>\n",
              "      <td>0.0358</td>\n",
              "    </tr>\n",
              "    <tr>\n",
              "      <th>21</th>\n",
              "      <td>September 2017</td>\n",
              "      <td>0.0372</td>\n",
              "    </tr>\n",
              "    <tr>\n",
              "      <th>22</th>\n",
              "      <td>Agustus 2017</td>\n",
              "      <td>0.0382</td>\n",
              "    </tr>\n",
              "    <tr>\n",
              "      <th>23</th>\n",
              "      <td>Juli 2017</td>\n",
              "      <td>0.0388</td>\n",
              "    </tr>\n",
              "    <tr>\n",
              "      <th>24</th>\n",
              "      <td>Juni 2017</td>\n",
              "      <td>0.0437</td>\n",
              "    </tr>\n",
              "    <tr>\n",
              "      <th>25</th>\n",
              "      <td>Mei 2017</td>\n",
              "      <td>0.0433</td>\n",
              "    </tr>\n",
              "    <tr>\n",
              "      <th>26</th>\n",
              "      <td>April 2017</td>\n",
              "      <td>0.0417</td>\n",
              "    </tr>\n",
              "    <tr>\n",
              "      <th>27</th>\n",
              "      <td>Maret 2017</td>\n",
              "      <td>0.0361</td>\n",
              "    </tr>\n",
              "    <tr>\n",
              "      <th>28</th>\n",
              "      <td>Februari 2017</td>\n",
              "      <td>0.0383</td>\n",
              "    </tr>\n",
              "    <tr>\n",
              "      <th>29</th>\n",
              "      <td>Januari 2017</td>\n",
              "      <td>0.0349</td>\n",
              "    </tr>\n",
              "    <tr>\n",
              "      <th>...</th>\n",
              "      <td>...</td>\n",
              "      <td>...</td>\n",
              "    </tr>\n",
              "    <tr>\n",
              "      <th>169</th>\n",
              "      <td>Mei 2005</td>\n",
              "      <td>0.0740</td>\n",
              "    </tr>\n",
              "    <tr>\n",
              "      <th>170</th>\n",
              "      <td>April 2005</td>\n",
              "      <td>0.0812</td>\n",
              "    </tr>\n",
              "    <tr>\n",
              "      <th>171</th>\n",
              "      <td>Maret 2005</td>\n",
              "      <td>0.0881</td>\n",
              "    </tr>\n",
              "    <tr>\n",
              "      <th>172</th>\n",
              "      <td>Februari 2005</td>\n",
              "      <td>0.0715</td>\n",
              "    </tr>\n",
              "    <tr>\n",
              "      <th>173</th>\n",
              "      <td>Januari 2005</td>\n",
              "      <td>0.0732</td>\n",
              "    </tr>\n",
              "    <tr>\n",
              "      <th>174</th>\n",
              "      <td>Desember 2004</td>\n",
              "      <td>0.0640</td>\n",
              "    </tr>\n",
              "    <tr>\n",
              "      <th>175</th>\n",
              "      <td>Nopember 2004</td>\n",
              "      <td>0.0618</td>\n",
              "    </tr>\n",
              "    <tr>\n",
              "      <th>176</th>\n",
              "      <td>Oktober 2004</td>\n",
              "      <td>0.0622</td>\n",
              "    </tr>\n",
              "    <tr>\n",
              "      <th>177</th>\n",
              "      <td>September 2004</td>\n",
              "      <td>0.0627</td>\n",
              "    </tr>\n",
              "    <tr>\n",
              "      <th>178</th>\n",
              "      <td>Agustus 2004</td>\n",
              "      <td>0.0667</td>\n",
              "    </tr>\n",
              "    <tr>\n",
              "      <th>179</th>\n",
              "      <td>Juli 2004</td>\n",
              "      <td>0.0720</td>\n",
              "    </tr>\n",
              "    <tr>\n",
              "      <th>180</th>\n",
              "      <td>Juni 2004</td>\n",
              "      <td>0.0683</td>\n",
              "    </tr>\n",
              "    <tr>\n",
              "      <th>181</th>\n",
              "      <td>Mei 2004</td>\n",
              "      <td>0.0647</td>\n",
              "    </tr>\n",
              "    <tr>\n",
              "      <th>182</th>\n",
              "      <td>April 2004</td>\n",
              "      <td>0.0592</td>\n",
              "    </tr>\n",
              "    <tr>\n",
              "      <th>183</th>\n",
              "      <td>Maret 2004</td>\n",
              "      <td>0.0511</td>\n",
              "    </tr>\n",
              "    <tr>\n",
              "      <th>184</th>\n",
              "      <td>Februari 2004</td>\n",
              "      <td>0.0460</td>\n",
              "    </tr>\n",
              "    <tr>\n",
              "      <th>185</th>\n",
              "      <td>Januari 2004</td>\n",
              "      <td>0.0482</td>\n",
              "    </tr>\n",
              "    <tr>\n",
              "      <th>186</th>\n",
              "      <td>Desember 2003</td>\n",
              "      <td>0.0516</td>\n",
              "    </tr>\n",
              "    <tr>\n",
              "      <th>187</th>\n",
              "      <td>Nopember 2003</td>\n",
              "      <td>0.0553</td>\n",
              "    </tr>\n",
              "    <tr>\n",
              "      <th>188</th>\n",
              "      <td>Oktober 2003</td>\n",
              "      <td>0.0648</td>\n",
              "    </tr>\n",
              "    <tr>\n",
              "      <th>189</th>\n",
              "      <td>September 2003</td>\n",
              "      <td>0.0633</td>\n",
              "    </tr>\n",
              "    <tr>\n",
              "      <th>190</th>\n",
              "      <td>Agustus 2003</td>\n",
              "      <td>0.0651</td>\n",
              "    </tr>\n",
              "    <tr>\n",
              "      <th>191</th>\n",
              "      <td>Juli 2003</td>\n",
              "      <td>0.0627</td>\n",
              "    </tr>\n",
              "    <tr>\n",
              "      <th>192</th>\n",
              "      <td>Juni 2003</td>\n",
              "      <td>0.0698</td>\n",
              "    </tr>\n",
              "    <tr>\n",
              "      <th>193</th>\n",
              "      <td>Mei 2003</td>\n",
              "      <td>0.0715</td>\n",
              "    </tr>\n",
              "    <tr>\n",
              "      <th>194</th>\n",
              "      <td>April 2003</td>\n",
              "      <td>0.0762</td>\n",
              "    </tr>\n",
              "    <tr>\n",
              "      <th>195</th>\n",
              "      <td>Maret 2003</td>\n",
              "      <td>0.0717</td>\n",
              "    </tr>\n",
              "    <tr>\n",
              "      <th>196</th>\n",
              "      <td>Februari 2003</td>\n",
              "      <td>0.0760</td>\n",
              "    </tr>\n",
              "    <tr>\n",
              "      <th>197</th>\n",
              "      <td>Januari 2003</td>\n",
              "      <td>0.0868</td>\n",
              "    </tr>\n",
              "    <tr>\n",
              "      <th>198</th>\n",
              "      <td>Desember 2002</td>\n",
              "      <td>0.0000</td>\n",
              "    </tr>\n",
              "  </tbody>\n",
              "</table>\n",
              "<p>199 rows × 2 columns</p>\n",
              "</div>"
            ],
            "text/plain": [
              "              Month  Inflasi\n",
              "0         Juni 2019   0.0328\n",
              "1          Mei 2019   0.0332\n",
              "2        April 2019   0.0283\n",
              "3        Maret 2019   0.0248\n",
              "4     Februari 2019   0.0257\n",
              "5      Januari 2019   0.0282\n",
              "6     Desember 2018   0.0313\n",
              "7     Nopember 2018   0.0323\n",
              "8      Oktober 2018   0.0316\n",
              "9    September 2018   0.0288\n",
              "10     Agustus 2018   0.0320\n",
              "11        Juli 2018   0.0318\n",
              "12        Juni 2018   0.0312\n",
              "13         Mei 2018   0.0323\n",
              "14       April 2018   0.0341\n",
              "15       Maret 2018   0.0340\n",
              "16    Februari 2018   0.0318\n",
              "17     Januari 2018   0.0325\n",
              "18    Desember 2017   0.0361\n",
              "19    Nopember 2017   0.0330\n",
              "20     Oktober 2017   0.0358\n",
              "21   September 2017   0.0372\n",
              "22     Agustus 2017   0.0382\n",
              "23        Juli 2017   0.0388\n",
              "24        Juni 2017   0.0437\n",
              "25         Mei 2017   0.0433\n",
              "26       April 2017   0.0417\n",
              "27       Maret 2017   0.0361\n",
              "28    Februari 2017   0.0383\n",
              "29     Januari 2017   0.0349\n",
              "..              ...      ...\n",
              "169        Mei 2005   0.0740\n",
              "170      April 2005   0.0812\n",
              "171      Maret 2005   0.0881\n",
              "172   Februari 2005   0.0715\n",
              "173    Januari 2005   0.0732\n",
              "174   Desember 2004   0.0640\n",
              "175   Nopember 2004   0.0618\n",
              "176    Oktober 2004   0.0622\n",
              "177  September 2004   0.0627\n",
              "178    Agustus 2004   0.0667\n",
              "179       Juli 2004   0.0720\n",
              "180       Juni 2004   0.0683\n",
              "181        Mei 2004   0.0647\n",
              "182      April 2004   0.0592\n",
              "183      Maret 2004   0.0511\n",
              "184   Februari 2004   0.0460\n",
              "185    Januari 2004   0.0482\n",
              "186   Desember 2003   0.0516\n",
              "187   Nopember 2003   0.0553\n",
              "188    Oktober 2003   0.0648\n",
              "189  September 2003   0.0633\n",
              "190    Agustus 2003   0.0651\n",
              "191       Juli 2003   0.0627\n",
              "192       Juni 2003   0.0698\n",
              "193        Mei 2003   0.0715\n",
              "194      April 2003   0.0762\n",
              "195      Maret 2003   0.0717\n",
              "196   Februari 2003   0.0760\n",
              "197    Januari 2003   0.0868\n",
              "198   Desember 2002   0.0000\n",
              "\n",
              "[199 rows x 2 columns]"
            ]
          },
          "metadata": {
            "tags": []
          },
          "execution_count": 86
        }
      ]
    },
    {
      "cell_type": "code",
      "metadata": {
        "id": "6tmCS2GV54Nt",
        "colab_type": "code",
        "colab": {}
      },
      "source": [
        ""
      ],
      "execution_count": 0,
      "outputs": []
    }
  ]
}